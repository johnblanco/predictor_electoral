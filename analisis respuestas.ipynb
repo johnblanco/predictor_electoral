{
 "cells": [
  {
   "cell_type": "code",
   "execution_count": 65,
   "metadata": {},
   "outputs": [],
   "source": [
    "import pandas as pd\n",
    "from sklearn import preprocessing\n",
    "from sklearn import tree\n",
    "from sklearn.model_selection import train_test_split\n",
    "import graphviz \n",
    "import warnings\n",
    "import numpy as np\n",
    "import sqlite3\n",
    "import json\n",
    "import matplotlib\n",
    "import matplotlib.pyplot as plt\n",
    "from sklearn.decomposition import PCA\n",
    "from sklearn.neighbors import KNeighborsClassifier\n",
    "from sklearn.metrics import roc_auc_score, roc_curve, log_loss, confusion_matrix, precision_score, recall_score, classification_report, accuracy_score\n",
    "import joblib\n",
    "from joblib import dump, load\n",
    "from pathlib import Path\n",
    "import datetime\n",
    "\n",
    "%matplotlib inline\n",
    "warnings.filterwarnings('ignore')"
   ]
  },
  {
   "cell_type": "code",
   "execution_count": 66,
   "metadata": {},
   "outputs": [
    {
     "data": {
      "text/html": [
       "<div>\n",
       "<style scoped>\n",
       "    .dataframe tbody tr th:only-of-type {\n",
       "        vertical-align: middle;\n",
       "    }\n",
       "\n",
       "    .dataframe tbody tr th {\n",
       "        vertical-align: top;\n",
       "    }\n",
       "\n",
       "    .dataframe thead th {\n",
       "        text-align: right;\n",
       "    }\n",
       "</style>\n",
       "<table border=\"1\" class=\"dataframe\">\n",
       "  <thead>\n",
       "    <tr style=\"text-align: right;\">\n",
       "      <th></th>\n",
       "      <th>id</th>\n",
       "      <th>1</th>\n",
       "      <th>10</th>\n",
       "      <th>11</th>\n",
       "      <th>12</th>\n",
       "      <th>13</th>\n",
       "      <th>14</th>\n",
       "      <th>15</th>\n",
       "      <th>16</th>\n",
       "      <th>17</th>\n",
       "      <th>...</th>\n",
       "      <th>26</th>\n",
       "      <th>3</th>\n",
       "      <th>4</th>\n",
       "      <th>5</th>\n",
       "      <th>6</th>\n",
       "      <th>7</th>\n",
       "      <th>8</th>\n",
       "      <th>9</th>\n",
       "      <th>candidatoId</th>\n",
       "      <th>fecha</th>\n",
       "    </tr>\n",
       "  </thead>\n",
       "  <tbody>\n",
       "    <tr>\n",
       "      <th>0</th>\n",
       "      <td>100</td>\n",
       "      <td>2</td>\n",
       "      <td>4</td>\n",
       "      <td>2</td>\n",
       "      <td>2</td>\n",
       "      <td>5</td>\n",
       "      <td>3</td>\n",
       "      <td>4</td>\n",
       "      <td>4</td>\n",
       "      <td>5</td>\n",
       "      <td>...</td>\n",
       "      <td>4</td>\n",
       "      <td>3</td>\n",
       "      <td>4</td>\n",
       "      <td>2</td>\n",
       "      <td>5</td>\n",
       "      <td>4</td>\n",
       "      <td>4</td>\n",
       "      <td>4</td>\n",
       "      <td>20</td>\n",
       "      <td>2019-02-07T18:17:25.611401</td>\n",
       "    </tr>\n",
       "    <tr>\n",
       "      <th>1</th>\n",
       "      <td>1000</td>\n",
       "      <td>2</td>\n",
       "      <td>3</td>\n",
       "      <td>3</td>\n",
       "      <td>3</td>\n",
       "      <td>4</td>\n",
       "      <td>3</td>\n",
       "      <td>4</td>\n",
       "      <td>3</td>\n",
       "      <td>5</td>\n",
       "      <td>...</td>\n",
       "      <td>4</td>\n",
       "      <td>2</td>\n",
       "      <td>3</td>\n",
       "      <td>3</td>\n",
       "      <td>5</td>\n",
       "      <td>5</td>\n",
       "      <td>4</td>\n",
       "      <td>4</td>\n",
       "      <td>9</td>\n",
       "      <td>2019-02-19T16:54:35.074392</td>\n",
       "    </tr>\n",
       "    <tr>\n",
       "      <th>2</th>\n",
       "      <td>100001</td>\n",
       "      <td>4</td>\n",
       "      <td>5</td>\n",
       "      <td>5</td>\n",
       "      <td>5</td>\n",
       "      <td>5</td>\n",
       "      <td>1</td>\n",
       "      <td>1</td>\n",
       "      <td>3</td>\n",
       "      <td>1</td>\n",
       "      <td>...</td>\n",
       "      <td>4</td>\n",
       "      <td>5</td>\n",
       "      <td>1</td>\n",
       "      <td>5</td>\n",
       "      <td>1</td>\n",
       "      <td>1</td>\n",
       "      <td>4</td>\n",
       "      <td>5</td>\n",
       "      <td>3</td>\n",
       "      <td>2019-02-21T15:56:04.223884</td>\n",
       "    </tr>\n",
       "    <tr>\n",
       "      <th>3</th>\n",
       "      <td>100006</td>\n",
       "      <td>4</td>\n",
       "      <td>1</td>\n",
       "      <td>5</td>\n",
       "      <td>1</td>\n",
       "      <td>5</td>\n",
       "      <td>5</td>\n",
       "      <td>5</td>\n",
       "      <td>4</td>\n",
       "      <td>5</td>\n",
       "      <td>...</td>\n",
       "      <td>5</td>\n",
       "      <td>5</td>\n",
       "      <td>5</td>\n",
       "      <td>5</td>\n",
       "      <td>5</td>\n",
       "      <td>5</td>\n",
       "      <td>2</td>\n",
       "      <td>4</td>\n",
       "      <td>4</td>\n",
       "      <td>2019-02-21T15:56:21.236512</td>\n",
       "    </tr>\n",
       "    <tr>\n",
       "      <th>4</th>\n",
       "      <td>100011</td>\n",
       "      <td>5</td>\n",
       "      <td>5</td>\n",
       "      <td>2</td>\n",
       "      <td>5</td>\n",
       "      <td>4</td>\n",
       "      <td>5</td>\n",
       "      <td>4</td>\n",
       "      <td>5</td>\n",
       "      <td>5</td>\n",
       "      <td>...</td>\n",
       "      <td>5</td>\n",
       "      <td>3</td>\n",
       "      <td>4</td>\n",
       "      <td>1</td>\n",
       "      <td>5</td>\n",
       "      <td>4</td>\n",
       "      <td>4</td>\n",
       "      <td>4</td>\n",
       "      <td>9</td>\n",
       "      <td>2019-02-21T15:56:46.090402</td>\n",
       "    </tr>\n",
       "  </tbody>\n",
       "</table>\n",
       "<p>5 rows × 29 columns</p>\n",
       "</div>"
      ],
      "text/plain": [
       "       id  1  10  11  12  13  14  15  16  17  ...  26  3  4  5  6  7  8  9  \\\n",
       "0     100  2   4   2   2   5   3   4   4   5  ...   4  3  4  2  5  4  4  4   \n",
       "1    1000  2   3   3   3   4   3   4   3   5  ...   4  2  3  3  5  5  4  4   \n",
       "2  100001  4   5   5   5   5   1   1   3   1  ...   4  5  1  5  1  1  4  5   \n",
       "3  100006  4   1   5   1   5   5   5   4   5  ...   5  5  5  5  5  5  2  4   \n",
       "4  100011  5   5   2   5   4   5   4   5   5  ...   5  3  4  1  5  4  4  4   \n",
       "\n",
       "   candidatoId                       fecha  \n",
       "0           20  2019-02-07T18:17:25.611401  \n",
       "1            9  2019-02-19T16:54:35.074392  \n",
       "2            3  2019-02-21T15:56:04.223884  \n",
       "3            4  2019-02-21T15:56:21.236512  \n",
       "4            9  2019-02-21T15:56:46.090402  \n",
       "\n",
       "[5 rows x 29 columns]"
      ]
     },
     "execution_count": 66,
     "metadata": {},
     "output_type": "execute_result"
    }
   ],
   "source": [
    "f = Path(\"csvs/data.csv\")\n",
    "if not f.is_file():\n",
    "    tmp = pd.read_csv('csvs/respuestas_encuestas.csv')\n",
    "    data = tmp.astype(str).pivot_table(index=\"id_encuesta\",columns=\"id_pregunta\",values=\"respuesta\",aggfunc=','.join)\n",
    "    data.index = data.index.astype(int) #use astype to convert to int\n",
    "    data.index.name = 'id'\n",
    "    respuestas = pd.read_csv('csvs/encuestas.csv').set_index('id')\n",
    "    data = data.join(respuestas, how='inner')\n",
    "    data.rename(columns={'candidato': 'candidatoId'}, inplace=True)\n",
    "    data.reset_index(level=0, inplace=True)\n",
    "    data.to_csv(path_or_buf='csvs/data.csv')    \n",
    "else:\n",
    "    data = pd.read_csv('csvs/data.csv')\n",
    "df = data\n",
    "df = df.drop(['Unnamed: 0'], axis=1)\n",
    "df.head()"
   ]
  },
  {
   "cell_type": "code",
   "execution_count": 67,
   "metadata": {},
   "outputs": [],
   "source": [
    "cand_data = json.loads(open('predictor_pol/candidatos.json','r').read())"
   ]
  },
  {
   "cell_type": "code",
   "execution_count": 68,
   "metadata": {},
   "outputs": [],
   "source": [
    "def get_party(id):\n",
    "    for p in cand_data:\n",
    "        for c in p['candidates']:\n",
    "            if c['id'] == id:\n",
    "                return p['party']\n",
    "    return 'n/a'\n",
    "\n",
    "def get_name(id):\n",
    "    for p in cand_data:\n",
    "        for c in p['candidates']:\n",
    "            if c['id'] == id:\n",
    "                return c['name']\n",
    "    return 'n/a'"
   ]
  },
  {
   "cell_type": "code",
   "execution_count": 69,
   "metadata": {
    "scrolled": false
   },
   "outputs": [],
   "source": [
    "df['partido'] = df.candidatoId.apply(get_party)\n",
    "df['nombre'] = df.candidatoId.apply(get_name)"
   ]
  },
  {
   "cell_type": "code",
   "execution_count": 70,
   "metadata": {},
   "outputs": [
    {
     "data": {
      "text/html": [
       "<div>\n",
       "<style scoped>\n",
       "    .dataframe tbody tr th:only-of-type {\n",
       "        vertical-align: middle;\n",
       "    }\n",
       "\n",
       "    .dataframe tbody tr th {\n",
       "        vertical-align: top;\n",
       "    }\n",
       "\n",
       "    .dataframe thead th {\n",
       "        text-align: right;\n",
       "    }\n",
       "</style>\n",
       "<table border=\"1\" class=\"dataframe\">\n",
       "  <thead>\n",
       "    <tr style=\"text-align: right;\">\n",
       "      <th></th>\n",
       "      <th>id</th>\n",
       "      <th>1</th>\n",
       "      <th>10</th>\n",
       "      <th>11</th>\n",
       "      <th>12</th>\n",
       "      <th>13</th>\n",
       "      <th>14</th>\n",
       "      <th>15</th>\n",
       "      <th>16</th>\n",
       "      <th>17</th>\n",
       "      <th>...</th>\n",
       "      <th>4</th>\n",
       "      <th>5</th>\n",
       "      <th>6</th>\n",
       "      <th>7</th>\n",
       "      <th>8</th>\n",
       "      <th>9</th>\n",
       "      <th>candidatoId</th>\n",
       "      <th>fecha</th>\n",
       "      <th>partido</th>\n",
       "      <th>nombre</th>\n",
       "    </tr>\n",
       "  </thead>\n",
       "  <tbody>\n",
       "    <tr>\n",
       "      <th>0</th>\n",
       "      <td>100</td>\n",
       "      <td>2</td>\n",
       "      <td>4</td>\n",
       "      <td>2</td>\n",
       "      <td>2</td>\n",
       "      <td>5</td>\n",
       "      <td>3</td>\n",
       "      <td>4</td>\n",
       "      <td>4</td>\n",
       "      <td>5</td>\n",
       "      <td>...</td>\n",
       "      <td>4</td>\n",
       "      <td>2</td>\n",
       "      <td>5</td>\n",
       "      <td>4</td>\n",
       "      <td>4</td>\n",
       "      <td>4</td>\n",
       "      <td>20</td>\n",
       "      <td>2019-02-07T18:17:25.611401</td>\n",
       "      <td>Partido de la Gente</td>\n",
       "      <td>Edgardo Novick</td>\n",
       "    </tr>\n",
       "  </tbody>\n",
       "</table>\n",
       "<p>1 rows × 31 columns</p>\n",
       "</div>"
      ],
      "text/plain": [
       "    id  1  10  11  12  13  14  15  16  17  ...  4  5  6  7  8  9  candidatoId  \\\n",
       "0  100  2   4   2   2   5   3   4   4   5  ...  4  2  5  4  4  4           20   \n",
       "\n",
       "                        fecha              partido          nombre  \n",
       "0  2019-02-07T18:17:25.611401  Partido de la Gente  Edgardo Novick  \n",
       "\n",
       "[1 rows x 31 columns]"
      ]
     },
     "execution_count": 70,
     "metadata": {},
     "output_type": "execute_result"
    }
   ],
   "source": [
    "df.head(1)"
   ]
  },
  {
   "cell_type": "code",
   "execution_count": 71,
   "metadata": {},
   "outputs": [
    {
     "name": "stdout",
     "output_type": "stream",
     "text": [
      "cantidad de registros: 28670\n"
     ]
    }
   ],
   "source": [
    "print(\"cantidad de registros: {}\".format(len(df)))"
   ]
  },
  {
   "cell_type": "code",
   "execution_count": 72,
   "metadata": {},
   "outputs": [
    {
     "data": {
      "text/plain": [
       "<matplotlib.axes._subplots.AxesSubplot at 0x1a218386d8>"
      ]
     },
     "execution_count": 72,
     "metadata": {},
     "output_type": "execute_result"
    },
    {
     "data": {
      "image/png": "[encoded data removed]",
      "text/plain": [
       "<Figure size 720x360 with 1 Axes>"
      ]
     },
     "metadata": {
      "needs_background": "light"
     },
     "output_type": "display_data"
    }
   ],
   "source": [
    "plt.rcParams['figure.figsize'] = [10, 5]\n",
    "df.groupby('partido').size().sort_values(ascending=False).plot.bar(title='Partido elegido por usuarios')"
   ]
  },
  {
   "cell_type": "code",
   "execution_count": 73,
   "metadata": {},
   "outputs": [
    {
     "data": {
      "text/plain": [
       "<matplotlib.axes._subplots.AxesSubplot at 0x1a21965208>"
      ]
     },
     "execution_count": 73,
     "metadata": {},
     "output_type": "execute_result"
    },
    {
     "data": {
      "image/png": "[encoded data removed]",
      "text/plain": [
       "<Figure size 720x360 with 1 Axes>"
      ]
     },
     "metadata": {
      "needs_background": "light"
     },
     "output_type": "display_data"
    }
   ],
   "source": [
    "df.groupby('nombre').size().sort_values(ascending=False).head(10).plot.bar(title='Candidato elegido por usuarios')"
   ]
  },
  {
   "cell_type": "code",
   "execution_count": 74,
   "metadata": {},
   "outputs": [],
   "source": [
    "by_day = pd.read_csv('csvs/encuestas_por_dia.csv')\n",
    "by_day = by_day.sort_values(by='dia',ascending=False)"
   ]
  },
  {
   "cell_type": "code",
   "execution_count": 75,
   "metadata": {},
   "outputs": [
    {
     "data": {
      "text/plain": [
       "<matplotlib.axes._subplots.AxesSubplot at 0x1a20f4ec18>"
      ]
     },
     "execution_count": 75,
     "metadata": {},
     "output_type": "execute_result"
    },
    {
     "data": {
      "image/png": "[encoded data removed]",
      "text/plain": [
       "<Figure size 720x360 with 1 Axes>"
      ]
     },
     "metadata": {
      "needs_background": "light"
     },
     "output_type": "display_data"
    }
   ],
   "source": [
    "by_day.plot.barh(x='dia',y='cant',title='Cantidad de encuestas por dia')"
   ]
  },
  {
   "cell_type": "code",
   "execution_count": 79,
   "metadata": {},
   "outputs": [
    {
     "data": {
      "text/plain": [
       "<matplotlib.axes._subplots.AxesSubplot at 0x1a2193b0f0>"
      ]
     },
     "execution_count": 79,
     "metadata": {},
     "output_type": "execute_result"
    },
    {
     "data": {
      "image/png": "[encoded data removed]",
      "text/plain": [
       "<Figure size 720x360 with 1 Axes>"
      ]
     },
     "metadata": {
      "needs_background": "light"
     },
     "output_type": "display_data"
    }
   ],
   "source": [
    "d = datetime.datetime.now() - datetime.timedelta(days=6)\n",
    "by_day = by_day[by_day['dia'] > d.strftime(\"%Y-%m-%d\")]\n",
    "by_day.plot.barh(x='dia',y='cant',title='Por dia (ultimos 5 dias)')"
   ]
  },
  {
   "cell_type": "code",
   "execution_count": 45,
   "metadata": {},
   "outputs": [],
   "source": [
    "# by_candidate = df[['nombre','fecha']]\n",
    "# by_candidate[\"dia\"] = by_candidate.fecha.apply(lambda x: x[0:10])\n",
    "# by_candidate = by_candidate[by_candidate['dia'] > '2019-02-18']\n",
    "# by_candidate.head(10)"
   ]
  },
  {
   "cell_type": "code",
   "execution_count": 30,
   "metadata": {},
   "outputs": [
    {
     "data": {
      "text/html": [
       "<div>\n",
       "<style scoped>\n",
       "    .dataframe tbody tr th:only-of-type {\n",
       "        vertical-align: middle;\n",
       "    }\n",
       "\n",
       "    .dataframe tbody tr th {\n",
       "        vertical-align: top;\n",
       "    }\n",
       "\n",
       "    .dataframe thead th {\n",
       "        text-align: right;\n",
       "    }\n",
       "</style>\n",
       "<table border=\"1\" class=\"dataframe\">\n",
       "  <thead>\n",
       "    <tr style=\"text-align: right;\">\n",
       "      <th></th>\n",
       "      <th>id</th>\n",
       "      <th>1</th>\n",
       "      <th>10</th>\n",
       "      <th>11</th>\n",
       "      <th>12</th>\n",
       "      <th>13</th>\n",
       "      <th>14</th>\n",
       "      <th>15</th>\n",
       "      <th>16</th>\n",
       "      <th>17</th>\n",
       "      <th>...</th>\n",
       "      <th>4</th>\n",
       "      <th>5</th>\n",
       "      <th>6</th>\n",
       "      <th>7</th>\n",
       "      <th>8</th>\n",
       "      <th>9</th>\n",
       "      <th>candidatoId</th>\n",
       "      <th>fecha</th>\n",
       "      <th>partido</th>\n",
       "      <th>nombre</th>\n",
       "    </tr>\n",
       "  </thead>\n",
       "  <tbody>\n",
       "    <tr>\n",
       "      <th>0</th>\n",
       "      <td>100</td>\n",
       "      <td>2</td>\n",
       "      <td>4</td>\n",
       "      <td>2</td>\n",
       "      <td>2</td>\n",
       "      <td>5</td>\n",
       "      <td>3</td>\n",
       "      <td>4</td>\n",
       "      <td>4</td>\n",
       "      <td>5</td>\n",
       "      <td>...</td>\n",
       "      <td>4</td>\n",
       "      <td>2</td>\n",
       "      <td>5</td>\n",
       "      <td>4</td>\n",
       "      <td>4</td>\n",
       "      <td>4</td>\n",
       "      <td>20</td>\n",
       "      <td>2019-02-07T18:17:25.611401</td>\n",
       "      <td>Partido de la Gente</td>\n",
       "      <td>Edgardo Novick</td>\n",
       "    </tr>\n",
       "    <tr>\n",
       "      <th>1</th>\n",
       "      <td>1000</td>\n",
       "      <td>2</td>\n",
       "      <td>3</td>\n",
       "      <td>3</td>\n",
       "      <td>3</td>\n",
       "      <td>4</td>\n",
       "      <td>3</td>\n",
       "      <td>4</td>\n",
       "      <td>3</td>\n",
       "      <td>5</td>\n",
       "      <td>...</td>\n",
       "      <td>3</td>\n",
       "      <td>3</td>\n",
       "      <td>5</td>\n",
       "      <td>5</td>\n",
       "      <td>4</td>\n",
       "      <td>4</td>\n",
       "      <td>9</td>\n",
       "      <td>2019-02-19T16:54:35.074392</td>\n",
       "      <td>Partido Nacional</td>\n",
       "      <td>Luis Lacalle Pou</td>\n",
       "    </tr>\n",
       "    <tr>\n",
       "      <th>2</th>\n",
       "      <td>100001</td>\n",
       "      <td>4</td>\n",
       "      <td>5</td>\n",
       "      <td>5</td>\n",
       "      <td>5</td>\n",
       "      <td>5</td>\n",
       "      <td>1</td>\n",
       "      <td>1</td>\n",
       "      <td>3</td>\n",
       "      <td>1</td>\n",
       "      <td>...</td>\n",
       "      <td>1</td>\n",
       "      <td>5</td>\n",
       "      <td>1</td>\n",
       "      <td>1</td>\n",
       "      <td>4</td>\n",
       "      <td>5</td>\n",
       "      <td>3</td>\n",
       "      <td>2019-02-21T15:56:04.223884</td>\n",
       "      <td>Frente Amplio</td>\n",
       "      <td>Carolina Cosse</td>\n",
       "    </tr>\n",
       "    <tr>\n",
       "      <th>3</th>\n",
       "      <td>100006</td>\n",
       "      <td>4</td>\n",
       "      <td>1</td>\n",
       "      <td>5</td>\n",
       "      <td>1</td>\n",
       "      <td>5</td>\n",
       "      <td>5</td>\n",
       "      <td>5</td>\n",
       "      <td>4</td>\n",
       "      <td>5</td>\n",
       "      <td>...</td>\n",
       "      <td>5</td>\n",
       "      <td>5</td>\n",
       "      <td>5</td>\n",
       "      <td>5</td>\n",
       "      <td>2</td>\n",
       "      <td>4</td>\n",
       "      <td>4</td>\n",
       "      <td>2019-02-21T15:56:21.236512</td>\n",
       "      <td>Frente Amplio</td>\n",
       "      <td>Daniel Martínez</td>\n",
       "    </tr>\n",
       "    <tr>\n",
       "      <th>4</th>\n",
       "      <td>100011</td>\n",
       "      <td>5</td>\n",
       "      <td>5</td>\n",
       "      <td>2</td>\n",
       "      <td>5</td>\n",
       "      <td>4</td>\n",
       "      <td>5</td>\n",
       "      <td>4</td>\n",
       "      <td>5</td>\n",
       "      <td>5</td>\n",
       "      <td>...</td>\n",
       "      <td>4</td>\n",
       "      <td>1</td>\n",
       "      <td>5</td>\n",
       "      <td>4</td>\n",
       "      <td>4</td>\n",
       "      <td>4</td>\n",
       "      <td>9</td>\n",
       "      <td>2019-02-21T15:56:46.090402</td>\n",
       "      <td>Partido Nacional</td>\n",
       "      <td>Luis Lacalle Pou</td>\n",
       "    </tr>\n",
       "  </tbody>\n",
       "</table>\n",
       "<p>5 rows × 31 columns</p>\n",
       "</div>"
      ],
      "text/plain": [
       "       id  1  10  11  12  13  14  15  16  17  ...  4  5  6  7  8  9  \\\n",
       "0     100  2   4   2   2   5   3   4   4   5  ...  4  2  5  4  4  4   \n",
       "1    1000  2   3   3   3   4   3   4   3   5  ...  3  3  5  5  4  4   \n",
       "2  100001  4   5   5   5   5   1   1   3   1  ...  1  5  1  1  4  5   \n",
       "3  100006  4   1   5   1   5   5   5   4   5  ...  5  5  5  5  2  4   \n",
       "4  100011  5   5   2   5   4   5   4   5   5  ...  4  1  5  4  4  4   \n",
       "\n",
       "   candidatoId                       fecha              partido  \\\n",
       "0           20  2019-02-07T18:17:25.611401  Partido de la Gente   \n",
       "1            9  2019-02-19T16:54:35.074392     Partido Nacional   \n",
       "2            3  2019-02-21T15:56:04.223884        Frente Amplio   \n",
       "3            4  2019-02-21T15:56:21.236512        Frente Amplio   \n",
       "4            9  2019-02-21T15:56:46.090402     Partido Nacional   \n",
       "\n",
       "             nombre  \n",
       "0    Edgardo Novick  \n",
       "1  Luis Lacalle Pou  \n",
       "2    Carolina Cosse  \n",
       "3   Daniel Martínez  \n",
       "4  Luis Lacalle Pou  \n",
       "\n",
       "[5 rows x 31 columns]"
      ]
     },
     "execution_count": 30,
     "metadata": {},
     "output_type": "execute_result"
    }
   ],
   "source": [
    "df.head()"
   ]
  },
  {
   "cell_type": "code",
   "execution_count": 32,
   "metadata": {},
   "outputs": [],
   "source": [
    "features = ['1', '10', '11', '12', '13', '14', '15', '16', '17', '18', '19',\n",
    "       '2', '20', '21', '22', '23', '24', '25', '26', '3', '4', '5', '6', '7',\n",
    "       '8', '9']"
   ]
  },
  {
   "cell_type": "code",
   "execution_count": null,
   "metadata": {},
   "outputs": [],
   "source": [
    "#TODO estudiar si no conviene quitar los extremos: respuestas encuestas que suman 26 o las que suman 130\n",
    "#hacer un grafico de barras de todo 1 o todo 5, si es muy heterogeneo el candidato , ensucian la data"
   ]
  },
  {
   "cell_type": "code",
   "execution_count": 33,
   "metadata": {},
   "outputs": [],
   "source": [
    "from sklearn.linear_model import LogisticRegression\n",
    "\n",
    "#Split train and test\n",
    "df_train, df_test = train_test_split(df, test_size=0.20)"
   ]
  },
  {
   "cell_type": "code",
   "execution_count": 35,
   "metadata": {},
   "outputs": [],
   "source": [
    "# Try to predict candidate\n",
    "clf = LogisticRegression(random_state=0, solver='lbfgs',multi_class='multinomial',max_iter=700).fit(df_train[features], df_train.candidatoId)\n",
    "df_test['predicted_candidate'] = clf.predict(df_test[features])\n",
    "\n",
    "df_test['predicted_candidate'] = df_test['predicted_candidate'].apply(get_name)\n",
    "df_test['candidato'] = df_test['candidatoId'].apply(get_name)\n"
   ]
  },
  {
   "cell_type": "code",
   "execution_count": 37,
   "metadata": {},
   "outputs": [
    {
     "name": "stdout",
     "output_type": "stream",
     "text": [
      "                            precision    recall  f1-score   support\n",
      "\n",
      "         Carlos Iafigliola       0.00      0.00      0.00        25\n",
      "            Carlos Techera       0.00      0.00      0.00         1\n",
      "            Carolina Cosse       0.39      0.42      0.40       738\n",
      "                César Vega       0.24      0.04      0.07       116\n",
      "           Daniel Martínez       0.37      0.62      0.46       915\n",
      "Edgardo Martínez Zimarioff       0.00      0.00      0.00         2\n",
      "            Edgardo Novick       0.00      0.00      0.00       215\n",
      "             Enrique Antía       0.00      0.00      0.00        46\n",
      "             Ernesto Talvi       0.37      0.62      0.46       977\n",
      "            Gonzalo Abella       0.32      0.09      0.15        74\n",
      "             Gustavo Salle       0.00      0.00      0.00        33\n",
      "             Héctor Rovira       0.00      0.00      0.00         2\n",
      "           Jorge Larrañaga       0.20      0.00      0.01       229\n",
      "        José Amorín Batlle       0.00      0.00      0.00        29\n",
      "              Juan Sartori       0.00      0.00      0.00       365\n",
      "   Julio María Sanguinetti       0.00      0.00      0.00       292\n",
      "            Justin Graside       0.00      0.00      0.00        25\n",
      "          Luis Lacalle Pou       0.31      0.55      0.40       821\n",
      "             Mario Bergara       0.25      0.01      0.01       296\n",
      "              Pablo Mieres       0.25      0.00      0.01       201\n",
      "          Pedro Etchegaray       0.00      0.00      0.00         1\n",
      "          Rafael Fernández       1.00      0.06      0.12        16\n",
      "           Verónica Alonso       0.00      0.00      0.00        48\n",
      "            Álvaro Germano       0.00      0.00      0.00         6\n",
      "             Óscar Andrade       0.37      0.29      0.32       261\n",
      "\n",
      "                 micro avg       0.35      0.35      0.35      5734\n",
      "                 macro avg       0.16      0.11      0.10      5734\n",
      "              weighted avg       0.27      0.35      0.28      5734\n",
      "\n"
     ]
    }
   ],
   "source": [
    "print(classification_report(df_test.nombre,df_test.predicted_candidate))\n",
    "#TODO ver con DD que se puede concluir con esto"
   ]
  },
  {
   "cell_type": "markdown",
   "metadata": {},
   "source": [
    "# Ahora probamos KNeighborsClassifier"
   ]
  },
  {
   "cell_type": "code",
   "execution_count": 39,
   "metadata": {},
   "outputs": [
    {
     "name": "stdout",
     "output_type": "stream",
     "text": [
      "                            precision    recall  f1-score   support\n",
      "\n",
      "         Carlos Iafigliola       0.00      0.00      0.00        24\n",
      "            Carlos Techera       0.00      0.00      0.00         1\n",
      "            Carolina Cosse       0.36      0.37      0.36       740\n",
      "                César Vega       0.00      0.00      0.00        98\n",
      "           Daniel Martínez       0.38      0.53      0.44       928\n",
      "Edgardo Martínez Zimarioff       0.00      0.00      0.00         4\n",
      "            Edgardo Novick       0.11      0.01      0.02       212\n",
      "             Enrique Antía       0.00      0.00      0.00        42\n",
      "             Ernesto Talvi       0.31      0.53      0.39       950\n",
      "            Gonzalo Abella       0.67      0.07      0.13        80\n",
      "             Gustavo Salle       0.00      0.00      0.00        31\n",
      "             Héctor Rovira       0.00      0.00      0.00        12\n",
      "           Jorge Larrañaga       0.05      0.00      0.01       247\n",
      "        José Amorín Batlle       0.00      0.00      0.00        30\n",
      "              Juan Sartori       0.13      0.02      0.03       330\n",
      "   Julio María Sanguinetti       0.02      0.00      0.01       312\n",
      "            Justin Graside       0.00      0.00      0.00        34\n",
      "          Luis Lacalle Pou       0.30      0.53      0.39       861\n",
      "             Mario Bergara       0.25      0.10      0.14       288\n",
      "              Pablo Mieres       0.09      0.03      0.05       166\n",
      "          Pedro Etchegaray       0.00      0.00      0.00         1\n",
      "          Rafael Fernández       0.00      0.00      0.00        10\n",
      "           Verónica Alonso       0.00      0.00      0.00        36\n",
      "                       n/a       0.00      0.00      0.00         1\n",
      "            Álvaro Germano       0.00      0.00      0.00         7\n",
      "             Óscar Andrade       0.42      0.36      0.39       289\n",
      "\n",
      "                 micro avg       0.33      0.33      0.33      5734\n",
      "                 macro avg       0.12      0.10      0.09      5734\n",
      "              weighted avg       0.27      0.33      0.28      5734\n",
      "\n"
     ]
    }
   ],
   "source": [
    "n=22\n",
    "k=22\n",
    "\n",
    "pca = PCA(n_components=n)\n",
    "pca.fit(df[features])\n",
    "X = pca.transform(df[features])\n",
    "y = df.candidatoId\n",
    "X_train, X_test, y_train, y_test = train_test_split(X, y, test_size=0.20)\n",
    "candidate_model = KNeighborsClassifier(n_neighbors=n)\n",
    "candidate_model.fit(X_train, y_train)\n",
    "results = pd.DataFrame()\n",
    "results['truth'] = y_test\n",
    "results['truth'] = results.truth.apply(get_name)\n",
    "results['prediction'] = candidate_model.predict(X_test)\n",
    "results['prediction'] = results.prediction.apply(get_name)\n",
    "\n",
    "print(classification_report(results.truth,results.prediction )) #TODO ver con DD conclusiones de esto"
   ]
  },
  {
   "cell_type": "code",
   "execution_count": 40,
   "metadata": {},
   "outputs": [
    {
     "ename": "ModuleNotFoundError",
     "evalue": "No module named 'lime'",
     "output_type": "error",
     "traceback": [
      "\u001b[0;31m---------------------------------------------------------------------------\u001b[0m",
      "\u001b[0;31mModuleNotFoundError\u001b[0m                       Traceback (most recent call last)",
      "\u001b[0;32m<ipython-input-40-6f4081f39e86>\u001b[0m in \u001b[0;36m<module>\u001b[0;34m\u001b[0m\n\u001b[0;32m----> 1\u001b[0;31m \u001b[0;32mimport\u001b[0m \u001b[0mlime\u001b[0m\u001b[0;34m\u001b[0m\u001b[0;34m\u001b[0m\u001b[0m\n\u001b[0m\u001b[1;32m      2\u001b[0m \u001b[0;32mimport\u001b[0m \u001b[0mlime\u001b[0m\u001b[0;34m.\u001b[0m\u001b[0mlime_tabular\u001b[0m\u001b[0;34m\u001b[0m\u001b[0;34m\u001b[0m\u001b[0m\n\u001b[1;32m      3\u001b[0m \u001b[0mexplainer\u001b[0m \u001b[0;34m=\u001b[0m \u001b[0mlime\u001b[0m\u001b[0;34m.\u001b[0m\u001b[0mlime_tabular\u001b[0m\u001b[0;34m.\u001b[0m\u001b[0mLimeTabularExplainer\u001b[0m\u001b[0;34m(\u001b[0m\u001b[0mX_train\u001b[0m \u001b[0;34m,\u001b[0m\u001b[0mfeature_names\u001b[0m \u001b[0;34m=\u001b[0m \u001b[0mfeatures\u001b[0m\u001b[0;34m)\u001b[0m\u001b[0;34m\u001b[0m\u001b[0;34m\u001b[0m\u001b[0m\n",
      "\u001b[0;31mModuleNotFoundError\u001b[0m: No module named 'lime'"
     ]
    }
   ],
   "source": [
    "import lime\n",
    "import lime.lime_tabular\n",
    "explainer = lime.lime_tabular.LimeTabularExplainer(X_train ,feature_names = features) #TODO fix"
   ]
  },
  {
   "cell_type": "code",
   "execution_count": 41,
   "metadata": {},
   "outputs": [
    {
     "ename": "NameError",
     "evalue": "name 'explainer' is not defined",
     "output_type": "error",
     "traceback": [
      "\u001b[0;31m---------------------------------------------------------------------------\u001b[0m",
      "\u001b[0;31mNameError\u001b[0m                                 Traceback (most recent call last)",
      "\u001b[0;32m<ipython-input-41-dbbc0b0334bb>\u001b[0m in \u001b[0;36m<module>\u001b[0;34m\u001b[0m\n\u001b[0;32m----> 1\u001b[0;31m \u001b[0mexp\u001b[0m \u001b[0;34m=\u001b[0m \u001b[0mexplainer\u001b[0m\u001b[0;34m.\u001b[0m\u001b[0mexplain_instance\u001b[0m\u001b[0;34m(\u001b[0m\u001b[0mdf_test\u001b[0m\u001b[0;34m[\u001b[0m\u001b[0;34m[\u001b[0m\u001b[0mfeatures\u001b[0m\u001b[0;34m]\u001b[0m\u001b[0;34m]\u001b[0m\u001b[0;34m[\u001b[0m\u001b[0;36m0\u001b[0m\u001b[0;34m]\u001b[0m\u001b[0;34m,\u001b[0m \u001b[0mclf\u001b[0m\u001b[0;34m.\u001b[0m\u001b[0mpredict_proba\u001b[0m\u001b[0;34m,\u001b[0m \u001b[0mnum_features\u001b[0m\u001b[0;34m=\u001b[0m\u001b[0;36m2\u001b[0m\u001b[0;34m,\u001b[0m \u001b[0mtop_labels\u001b[0m\u001b[0;34m=\u001b[0m\u001b[0;36m1\u001b[0m\u001b[0;34m)\u001b[0m\u001b[0;34m\u001b[0m\u001b[0;34m\u001b[0m\u001b[0m\n\u001b[0m",
      "\u001b[0;31mNameError\u001b[0m: name 'explainer' is not defined"
     ]
    }
   ],
   "source": [
    "exp = explainer.explain_instance(df_test[[features]][0], clf.predict_proba, num_features=2, top_labels=1)"
   ]
  },
  {
   "cell_type": "code",
   "execution_count": null,
   "metadata": {},
   "outputs": [],
   "source": []
  }
 ],
 "metadata": {
  "kernelspec": {
   "display_name": "Python 3",
   "language": "python",
   "name": "python3"
  },
  "language_info": {
   "codemirror_mode": {
    "name": "ipython",
    "version": 3
   },
   "file_extension": ".py",
   "mimetype": "text/x-python",
   "name": "python",
   "nbconvert_exporter": "python",
   "pygments_lexer": "ipython3",
   "version": "3.7.2"
  }
 },
 "nbformat": 4,
 "nbformat_minor": 2
}
