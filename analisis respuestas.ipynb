{
 "cells": [
  {
   "cell_type": "code",
   "execution_count": 61,
   "metadata": {},
   "outputs": [],
   "source": [
    "import pandas as pd\n",
    "from sklearn import preprocessing\n",
    "from sklearn import tree\n",
    "from sklearn.model_selection import train_test_split\n",
    "import graphviz \n",
    "import warnings\n",
    "import numpy as np\n",
    "import sqlite3\n",
    "import json\n",
    "import matplotlib\n",
    "import matplotlib.pyplot as plt\n",
    "from sklearn.decomposition import PCA\n",
    "from sklearn.neighbors import KNeighborsClassifier\n",
    "from sklearn.metrics import roc_auc_score, roc_curve, log_loss, confusion_matrix, precision_score, recall_score, classification_report, accuracy_score\n",
    "import joblib\n",
    "from joblib import dump, load\n",
    "from pathlib import Path\n",
    "import datetime\n",
    "\n",
    "%matplotlib inline\n",
    "warnings.filterwarnings('ignore')"
   ]
  },
  {
   "cell_type": "code",
   "execution_count": 62,
   "metadata": {},
   "outputs": [
    {
     "data": {
      "text/html": [
       "<div>\n",
       "<style scoped>\n",
       "    .dataframe tbody tr th:only-of-type {\n",
       "        vertical-align: middle;\n",
       "    }\n",
       "\n",
       "    .dataframe tbody tr th {\n",
       "        vertical-align: top;\n",
       "    }\n",
       "\n",
       "    .dataframe thead th {\n",
       "        text-align: right;\n",
       "    }\n",
       "</style>\n",
       "<table border=\"1\" class=\"dataframe\">\n",
       "  <thead>\n",
       "    <tr style=\"text-align: right;\">\n",
       "      <th></th>\n",
       "      <th>id</th>\n",
       "      <th>1</th>\n",
       "      <th>10</th>\n",
       "      <th>11</th>\n",
       "      <th>12</th>\n",
       "      <th>13</th>\n",
       "      <th>14</th>\n",
       "      <th>15</th>\n",
       "      <th>16</th>\n",
       "      <th>17</th>\n",
       "      <th>...</th>\n",
       "      <th>26</th>\n",
       "      <th>3</th>\n",
       "      <th>4</th>\n",
       "      <th>5</th>\n",
       "      <th>6</th>\n",
       "      <th>7</th>\n",
       "      <th>8</th>\n",
       "      <th>9</th>\n",
       "      <th>candidatoId</th>\n",
       "      <th>fecha</th>\n",
       "    </tr>\n",
       "  </thead>\n",
       "  <tbody>\n",
       "    <tr>\n",
       "      <th>0</th>\n",
       "      <td>100</td>\n",
       "      <td>2</td>\n",
       "      <td>4</td>\n",
       "      <td>2</td>\n",
       "      <td>2</td>\n",
       "      <td>5</td>\n",
       "      <td>3</td>\n",
       "      <td>4</td>\n",
       "      <td>4</td>\n",
       "      <td>5</td>\n",
       "      <td>...</td>\n",
       "      <td>4</td>\n",
       "      <td>3</td>\n",
       "      <td>4</td>\n",
       "      <td>2</td>\n",
       "      <td>5</td>\n",
       "      <td>4</td>\n",
       "      <td>4</td>\n",
       "      <td>4</td>\n",
       "      <td>20</td>\n",
       "      <td>2019-02-07T18:17:25.611401</td>\n",
       "    </tr>\n",
       "    <tr>\n",
       "      <th>1</th>\n",
       "      <td>1000</td>\n",
       "      <td>2</td>\n",
       "      <td>3</td>\n",
       "      <td>3</td>\n",
       "      <td>3</td>\n",
       "      <td>4</td>\n",
       "      <td>3</td>\n",
       "      <td>4</td>\n",
       "      <td>3</td>\n",
       "      <td>5</td>\n",
       "      <td>...</td>\n",
       "      <td>4</td>\n",
       "      <td>2</td>\n",
       "      <td>3</td>\n",
       "      <td>3</td>\n",
       "      <td>5</td>\n",
       "      <td>5</td>\n",
       "      <td>4</td>\n",
       "      <td>4</td>\n",
       "      <td>9</td>\n",
       "      <td>2019-02-19T16:54:35.074392</td>\n",
       "    </tr>\n",
       "    <tr>\n",
       "      <th>2</th>\n",
       "      <td>100001</td>\n",
       "      <td>4</td>\n",
       "      <td>5</td>\n",
       "      <td>5</td>\n",
       "      <td>5</td>\n",
       "      <td>5</td>\n",
       "      <td>1</td>\n",
       "      <td>1</td>\n",
       "      <td>3</td>\n",
       "      <td>1</td>\n",
       "      <td>...</td>\n",
       "      <td>4</td>\n",
       "      <td>5</td>\n",
       "      <td>1</td>\n",
       "      <td>5</td>\n",
       "      <td>1</td>\n",
       "      <td>1</td>\n",
       "      <td>4</td>\n",
       "      <td>5</td>\n",
       "      <td>3</td>\n",
       "      <td>2019-02-21T15:56:04.223884</td>\n",
       "    </tr>\n",
       "    <tr>\n",
       "      <th>3</th>\n",
       "      <td>100006</td>\n",
       "      <td>4</td>\n",
       "      <td>1</td>\n",
       "      <td>5</td>\n",
       "      <td>1</td>\n",
       "      <td>5</td>\n",
       "      <td>5</td>\n",
       "      <td>5</td>\n",
       "      <td>4</td>\n",
       "      <td>5</td>\n",
       "      <td>...</td>\n",
       "      <td>5</td>\n",
       "      <td>5</td>\n",
       "      <td>5</td>\n",
       "      <td>5</td>\n",
       "      <td>5</td>\n",
       "      <td>5</td>\n",
       "      <td>2</td>\n",
       "      <td>4</td>\n",
       "      <td>4</td>\n",
       "      <td>2019-02-21T15:56:21.236512</td>\n",
       "    </tr>\n",
       "    <tr>\n",
       "      <th>4</th>\n",
       "      <td>100011</td>\n",
       "      <td>5</td>\n",
       "      <td>5</td>\n",
       "      <td>2</td>\n",
       "      <td>5</td>\n",
       "      <td>4</td>\n",
       "      <td>5</td>\n",
       "      <td>4</td>\n",
       "      <td>5</td>\n",
       "      <td>5</td>\n",
       "      <td>...</td>\n",
       "      <td>5</td>\n",
       "      <td>3</td>\n",
       "      <td>4</td>\n",
       "      <td>1</td>\n",
       "      <td>5</td>\n",
       "      <td>4</td>\n",
       "      <td>4</td>\n",
       "      <td>4</td>\n",
       "      <td>9</td>\n",
       "      <td>2019-02-21T15:56:46.090402</td>\n",
       "    </tr>\n",
       "  </tbody>\n",
       "</table>\n",
       "<p>5 rows × 29 columns</p>\n",
       "</div>"
      ],
      "text/plain": [
       "       id  1  10  11  12  13  14  15  16  17  ...  26  3  4  5  6  7  8  9  \\\n",
       "0     100  2   4   2   2   5   3   4   4   5  ...   4  3  4  2  5  4  4  4   \n",
       "1    1000  2   3   3   3   4   3   4   3   5  ...   4  2  3  3  5  5  4  4   \n",
       "2  100001  4   5   5   5   5   1   1   3   1  ...   4  5  1  5  1  1  4  5   \n",
       "3  100006  4   1   5   1   5   5   5   4   5  ...   5  5  5  5  5  5  2  4   \n",
       "4  100011  5   5   2   5   4   5   4   5   5  ...   5  3  4  1  5  4  4  4   \n",
       "\n",
       "   candidatoId                       fecha  \n",
       "0           20  2019-02-07T18:17:25.611401  \n",
       "1            9  2019-02-19T16:54:35.074392  \n",
       "2            3  2019-02-21T15:56:04.223884  \n",
       "3            4  2019-02-21T15:56:21.236512  \n",
       "4            9  2019-02-21T15:56:46.090402  \n",
       "\n",
       "[5 rows x 29 columns]"
      ]
     },
     "execution_count": 62,
     "metadata": {},
     "output_type": "execute_result"
    }
   ],
   "source": [
    "f = Path(\"csvs/data.csv\")\n",
    "if not f.is_file():\n",
    "    tmp = pd.read_csv('csvs/respuestas_encuestas.csv')\n",
    "    data = tmp.astype(str).pivot_table(index=\"id_encuesta\",columns=\"id_pregunta\",values=\"respuesta\",aggfunc=','.join)\n",
    "    data.index = data.index.astype(int) #use astype to convert to int\n",
    "    data.index.name = 'id'\n",
    "    respuestas = pd.read_csv('csvs/encuestas.csv').set_index('id')\n",
    "    data = data.join(respuestas, how='inner')\n",
    "    data.rename(columns={'candidato': 'candidatoId'}, inplace=True)\n",
    "    data.reset_index(level=0, inplace=True)\n",
    "    data.to_csv(path_or_buf='csvs/data.csv')    \n",
    "else:\n",
    "    data = pd.read_csv('csvs/data.csv')\n",
    "    data.drop(columns=['Unnamed: 0'],inplace=True)\n",
    "df = data\n",
    "df.head()"
   ]
  },
  {
   "cell_type": "code",
   "execution_count": 47,
   "metadata": {},
   "outputs": [],
   "source": [
    "cand_data = json.loads(open('predictor_pol/candidatos.json','r').read())"
   ]
  },
  {
   "cell_type": "code",
   "execution_count": 48,
   "metadata": {},
   "outputs": [],
   "source": [
    "def get_party(id):\n",
    "    for p in cand_data:\n",
    "        for c in p['candidates']:\n",
    "            if c['id'] == id:\n",
    "                return p['party']\n",
    "    return 'n/a'\n",
    "\n",
    "def get_name(id):\n",
    "    for p in cand_data:\n",
    "        for c in p['candidates']:\n",
    "            if c['id'] == id:\n",
    "                return c['name']\n",
    "    return 'n/a'"
   ]
  },
  {
   "cell_type": "code",
   "execution_count": 49,
   "metadata": {
    "scrolled": false
   },
   "outputs": [],
   "source": [
    "df['partido'] = df.candidatoId.apply(get_party)\n",
    "df['nombre'] = df.candidatoId.apply(get_name)"
   ]
  },
  {
   "cell_type": "code",
   "execution_count": 50,
   "metadata": {},
   "outputs": [
    {
     "data": {
      "text/html": [
       "<div>\n",
       "<style scoped>\n",
       "    .dataframe tbody tr th:only-of-type {\n",
       "        vertical-align: middle;\n",
       "    }\n",
       "\n",
       "    .dataframe tbody tr th {\n",
       "        vertical-align: top;\n",
       "    }\n",
       "\n",
       "    .dataframe thead th {\n",
       "        text-align: right;\n",
       "    }\n",
       "</style>\n",
       "<table border=\"1\" class=\"dataframe\">\n",
       "  <thead>\n",
       "    <tr style=\"text-align: right;\">\n",
       "      <th></th>\n",
       "      <th>Unnamed: 0</th>\n",
       "      <th>id</th>\n",
       "      <th>1</th>\n",
       "      <th>10</th>\n",
       "      <th>11</th>\n",
       "      <th>12</th>\n",
       "      <th>13</th>\n",
       "      <th>14</th>\n",
       "      <th>15</th>\n",
       "      <th>16</th>\n",
       "      <th>...</th>\n",
       "      <th>4</th>\n",
       "      <th>5</th>\n",
       "      <th>6</th>\n",
       "      <th>7</th>\n",
       "      <th>8</th>\n",
       "      <th>9</th>\n",
       "      <th>candidatoId</th>\n",
       "      <th>fecha</th>\n",
       "      <th>partido</th>\n",
       "      <th>nombre</th>\n",
       "    </tr>\n",
       "  </thead>\n",
       "  <tbody>\n",
       "    <tr>\n",
       "      <th>0</th>\n",
       "      <td>0</td>\n",
       "      <td>100</td>\n",
       "      <td>2</td>\n",
       "      <td>4</td>\n",
       "      <td>2</td>\n",
       "      <td>2</td>\n",
       "      <td>5</td>\n",
       "      <td>3</td>\n",
       "      <td>4</td>\n",
       "      <td>4</td>\n",
       "      <td>...</td>\n",
       "      <td>4</td>\n",
       "      <td>2</td>\n",
       "      <td>5</td>\n",
       "      <td>4</td>\n",
       "      <td>4</td>\n",
       "      <td>4</td>\n",
       "      <td>20</td>\n",
       "      <td>2019-02-07T18:17:25.611401</td>\n",
       "      <td>Partido de la Gente</td>\n",
       "      <td>Edgardo Novick</td>\n",
       "    </tr>\n",
       "  </tbody>\n",
       "</table>\n",
       "<p>1 rows × 32 columns</p>\n",
       "</div>"
      ],
      "text/plain": [
       "   Unnamed: 0   id  1  10  11  12  13  14  15  16  ...  4  5  6  7  8  9  \\\n",
       "0           0  100  2   4   2   2   5   3   4   4  ...  4  2  5  4  4  4   \n",
       "\n",
       "   candidatoId                       fecha              partido  \\\n",
       "0           20  2019-02-07T18:17:25.611401  Partido de la Gente   \n",
       "\n",
       "           nombre  \n",
       "0  Edgardo Novick  \n",
       "\n",
       "[1 rows x 32 columns]"
      ]
     },
     "execution_count": 50,
     "metadata": {},
     "output_type": "execute_result"
    }
   ],
   "source": [
    "df.head(1)"
   ]
  },
  {
   "cell_type": "markdown",
   "metadata": {},
   "source": [
    "# Análisis exploratorio"
   ]
  },
  {
   "cell_type": "code",
   "execution_count": 51,
   "metadata": {},
   "outputs": [
    {
     "name": "stdout",
     "output_type": "stream",
     "text": [
      "cantidad de registros: 30196\n"
     ]
    }
   ],
   "source": [
    "print(\"cantidad de registros: {}\".format(len(df)))"
   ]
  },
  {
   "cell_type": "code",
   "execution_count": 52,
   "metadata": {},
   "outputs": [
    {
     "data": {
      "text/plain": [
       "<matplotlib.axes._subplots.AxesSubplot at 0x1a53a41b00>"
      ]
     },
     "execution_count": 52,
     "metadata": {},
     "output_type": "execute_result"
    },
    {
     "data": {
      "image/png": "[encoded data removed]",
      "text/plain": [
       "<Figure size 720x360 with 1 Axes>"
      ]
     },
     "metadata": {
      "needs_background": "light"
     },
     "output_type": "display_data"
    }
   ],
   "source": [
    "plt.rcParams['figure.figsize'] = [10, 5]\n",
    "df.groupby('partido').size().sort_values(ascending=False).plot.bar(title='Partido elegido por usuarios')"
   ]
  },
  {
   "cell_type": "code",
   "execution_count": 53,
   "metadata": {},
   "outputs": [
    {
     "data": {
      "text/plain": [
       "<matplotlib.axes._subplots.AxesSubplot at 0x1a53a5c1d0>"
      ]
     },
     "execution_count": 53,
     "metadata": {},
     "output_type": "execute_result"
    },
    {
     "data": {
      "image/png": "[encoded data removed]",
      "text/plain": [
       "<Figure size 720x360 with 1 Axes>"
      ]
     },
     "metadata": {
      "needs_background": "light"
     },
     "output_type": "display_data"
    }
   ],
   "source": [
    "df.groupby('nombre').size().sort_values(ascending=False).head(10).plot.bar(title='Candidato elegido por usuarios')"
   ]
  },
  {
   "cell_type": "code",
   "execution_count": 54,
   "metadata": {},
   "outputs": [],
   "source": [
    "by_day = pd.read_csv('csvs/encuestas_por_dia.csv')\n",
    "by_day = by_day.sort_values(by='dia',ascending=False)"
   ]
  },
  {
   "cell_type": "code",
   "execution_count": 55,
   "metadata": {},
   "outputs": [
    {
     "data": {
      "text/plain": [
       "<matplotlib.axes._subplots.AxesSubplot at 0x1a53a099e8>"
      ]
     },
     "execution_count": 55,
     "metadata": {},
     "output_type": "execute_result"
    },
    {
     "data": {
      "image/png": "[encoded data removed]",
      "text/plain": [
       "<Figure size 720x360 with 1 Axes>"
      ]
     },
     "metadata": {
      "needs_background": "light"
     },
     "output_type": "display_data"
    }
   ],
   "source": [
    "by_day.plot.barh(x='dia',y='cant',title='Cantidad de encuestas por dia')"
   ]
  },
  {
   "cell_type": "code",
   "execution_count": 56,
   "metadata": {},
   "outputs": [
    {
     "data": {
      "text/plain": [
       "<matplotlib.axes._subplots.AxesSubplot at 0x1a539dc208>"
      ]
     },
     "execution_count": 56,
     "metadata": {},
     "output_type": "execute_result"
    },
    {
     "data": {
      "image/png": "[encoded data removed]",
      "text/plain": [
       "<Figure size 720x360 with 1 Axes>"
      ]
     },
     "metadata": {
      "needs_background": "light"
     },
     "output_type": "display_data"
    }
   ],
   "source": [
    "d = datetime.datetime.now() - datetime.timedelta(days=6)\n",
    "by_day = by_day[by_day['dia'] > d.strftime(\"%Y-%m-%d\")]\n",
    "by_day.plot.barh(x='dia',y='cant',title='Por dia (ultimos 5 dias)')"
   ]
  },
  {
   "cell_type": "code",
   "execution_count": 57,
   "metadata": {},
   "outputs": [
    {
     "data": {
      "text/html": [
       "<div>\n",
       "<style scoped>\n",
       "    .dataframe tbody tr th:only-of-type {\n",
       "        vertical-align: middle;\n",
       "    }\n",
       "\n",
       "    .dataframe tbody tr th {\n",
       "        vertical-align: top;\n",
       "    }\n",
       "\n",
       "    .dataframe thead th {\n",
       "        text-align: right;\n",
       "    }\n",
       "</style>\n",
       "<table border=\"1\" class=\"dataframe\">\n",
       "  <thead>\n",
       "    <tr style=\"text-align: right;\">\n",
       "      <th></th>\n",
       "      <th>nombre</th>\n",
       "      <th>dia</th>\n",
       "    </tr>\n",
       "  </thead>\n",
       "  <tbody>\n",
       "    <tr>\n",
       "      <th>0</th>\n",
       "      <td>Edgardo Novick</td>\n",
       "      <td>2019-02-07</td>\n",
       "    </tr>\n",
       "    <tr>\n",
       "      <th>1</th>\n",
       "      <td>Luis Lacalle Pou</td>\n",
       "      <td>2019-02-19</td>\n",
       "    </tr>\n",
       "    <tr>\n",
       "      <th>2</th>\n",
       "      <td>Carolina Cosse</td>\n",
       "      <td>2019-02-21</td>\n",
       "    </tr>\n",
       "    <tr>\n",
       "      <th>3</th>\n",
       "      <td>Daniel Martínez</td>\n",
       "      <td>2019-02-21</td>\n",
       "    </tr>\n",
       "    <tr>\n",
       "      <th>4</th>\n",
       "      <td>Luis Lacalle Pou</td>\n",
       "      <td>2019-02-21</td>\n",
       "    </tr>\n",
       "    <tr>\n",
       "      <th>5</th>\n",
       "      <td>Carolina Cosse</td>\n",
       "      <td>2019-02-21</td>\n",
       "    </tr>\n",
       "    <tr>\n",
       "      <th>6</th>\n",
       "      <td>Julio María Sanguinetti</td>\n",
       "      <td>2019-02-21</td>\n",
       "    </tr>\n",
       "    <tr>\n",
       "      <th>7</th>\n",
       "      <td>Ernesto Talvi</td>\n",
       "      <td>2019-02-21</td>\n",
       "    </tr>\n",
       "    <tr>\n",
       "      <th>8</th>\n",
       "      <td>Ernesto Talvi</td>\n",
       "      <td>2019-02-19</td>\n",
       "    </tr>\n",
       "    <tr>\n",
       "      <th>9</th>\n",
       "      <td>Luis Lacalle Pou</td>\n",
       "      <td>2019-02-21</td>\n",
       "    </tr>\n",
       "  </tbody>\n",
       "</table>\n",
       "</div>"
      ],
      "text/plain": [
       "                    nombre         dia\n",
       "0           Edgardo Novick  2019-02-07\n",
       "1         Luis Lacalle Pou  2019-02-19\n",
       "2           Carolina Cosse  2019-02-21\n",
       "3          Daniel Martínez  2019-02-21\n",
       "4         Luis Lacalle Pou  2019-02-21\n",
       "5           Carolina Cosse  2019-02-21\n",
       "6  Julio María Sanguinetti  2019-02-21\n",
       "7            Ernesto Talvi  2019-02-21\n",
       "8            Ernesto Talvi  2019-02-19\n",
       "9         Luis Lacalle Pou  2019-02-21"
      ]
     },
     "execution_count": 57,
     "metadata": {},
     "output_type": "execute_result"
    }
   ],
   "source": [
    "by_candidate = df[['nombre','fecha']]\n",
    "by_candidate[\"dia\"] = by_candidate.fecha.apply(lambda x: x[0:10])\n",
    "by_candidate.drop(columns=['fecha'],inplace=True)\n",
    "by_candidate.head(10)\n",
    "#TODO aca me gustaria hacer unas graficas por dia por candidato"
   ]
  },
  {
   "cell_type": "markdown",
   "metadata": {},
   "source": [
    "# Entrenamiento de modelo"
   ]
  },
  {
   "cell_type": "code",
   "execution_count": 58,
   "metadata": {},
   "outputs": [
    {
     "data": {
      "text/html": [
       "<div>\n",
       "<style scoped>\n",
       "    .dataframe tbody tr th:only-of-type {\n",
       "        vertical-align: middle;\n",
       "    }\n",
       "\n",
       "    .dataframe tbody tr th {\n",
       "        vertical-align: top;\n",
       "    }\n",
       "\n",
       "    .dataframe thead th {\n",
       "        text-align: right;\n",
       "    }\n",
       "</style>\n",
       "<table border=\"1\" class=\"dataframe\">\n",
       "  <thead>\n",
       "    <tr style=\"text-align: right;\">\n",
       "      <th></th>\n",
       "      <th>Unnamed: 0</th>\n",
       "      <th>id</th>\n",
       "      <th>1</th>\n",
       "      <th>10</th>\n",
       "      <th>11</th>\n",
       "      <th>12</th>\n",
       "      <th>13</th>\n",
       "      <th>14</th>\n",
       "      <th>15</th>\n",
       "      <th>16</th>\n",
       "      <th>...</th>\n",
       "      <th>4</th>\n",
       "      <th>5</th>\n",
       "      <th>6</th>\n",
       "      <th>7</th>\n",
       "      <th>8</th>\n",
       "      <th>9</th>\n",
       "      <th>candidatoId</th>\n",
       "      <th>fecha</th>\n",
       "      <th>partido</th>\n",
       "      <th>nombre</th>\n",
       "    </tr>\n",
       "  </thead>\n",
       "  <tbody>\n",
       "    <tr>\n",
       "      <th>0</th>\n",
       "      <td>0</td>\n",
       "      <td>100</td>\n",
       "      <td>2</td>\n",
       "      <td>4</td>\n",
       "      <td>2</td>\n",
       "      <td>2</td>\n",
       "      <td>5</td>\n",
       "      <td>3</td>\n",
       "      <td>4</td>\n",
       "      <td>4</td>\n",
       "      <td>...</td>\n",
       "      <td>4</td>\n",
       "      <td>2</td>\n",
       "      <td>5</td>\n",
       "      <td>4</td>\n",
       "      <td>4</td>\n",
       "      <td>4</td>\n",
       "      <td>20</td>\n",
       "      <td>2019-02-07T18:17:25.611401</td>\n",
       "      <td>Partido de la Gente</td>\n",
       "      <td>Edgardo Novick</td>\n",
       "    </tr>\n",
       "    <tr>\n",
       "      <th>1</th>\n",
       "      <td>1</td>\n",
       "      <td>1000</td>\n",
       "      <td>2</td>\n",
       "      <td>3</td>\n",
       "      <td>3</td>\n",
       "      <td>3</td>\n",
       "      <td>4</td>\n",
       "      <td>3</td>\n",
       "      <td>4</td>\n",
       "      <td>3</td>\n",
       "      <td>...</td>\n",
       "      <td>3</td>\n",
       "      <td>3</td>\n",
       "      <td>5</td>\n",
       "      <td>5</td>\n",
       "      <td>4</td>\n",
       "      <td>4</td>\n",
       "      <td>9</td>\n",
       "      <td>2019-02-19T16:54:35.074392</td>\n",
       "      <td>Partido Nacional</td>\n",
       "      <td>Luis Lacalle Pou</td>\n",
       "    </tr>\n",
       "    <tr>\n",
       "      <th>2</th>\n",
       "      <td>2</td>\n",
       "      <td>100001</td>\n",
       "      <td>4</td>\n",
       "      <td>5</td>\n",
       "      <td>5</td>\n",
       "      <td>5</td>\n",
       "      <td>5</td>\n",
       "      <td>1</td>\n",
       "      <td>1</td>\n",
       "      <td>3</td>\n",
       "      <td>...</td>\n",
       "      <td>1</td>\n",
       "      <td>5</td>\n",
       "      <td>1</td>\n",
       "      <td>1</td>\n",
       "      <td>4</td>\n",
       "      <td>5</td>\n",
       "      <td>3</td>\n",
       "      <td>2019-02-21T15:56:04.223884</td>\n",
       "      <td>Frente Amplio</td>\n",
       "      <td>Carolina Cosse</td>\n",
       "    </tr>\n",
       "    <tr>\n",
       "      <th>3</th>\n",
       "      <td>3</td>\n",
       "      <td>100006</td>\n",
       "      <td>4</td>\n",
       "      <td>1</td>\n",
       "      <td>5</td>\n",
       "      <td>1</td>\n",
       "      <td>5</td>\n",
       "      <td>5</td>\n",
       "      <td>5</td>\n",
       "      <td>4</td>\n",
       "      <td>...</td>\n",
       "      <td>5</td>\n",
       "      <td>5</td>\n",
       "      <td>5</td>\n",
       "      <td>5</td>\n",
       "      <td>2</td>\n",
       "      <td>4</td>\n",
       "      <td>4</td>\n",
       "      <td>2019-02-21T15:56:21.236512</td>\n",
       "      <td>Frente Amplio</td>\n",
       "      <td>Daniel Martínez</td>\n",
       "    </tr>\n",
       "    <tr>\n",
       "      <th>4</th>\n",
       "      <td>4</td>\n",
       "      <td>100011</td>\n",
       "      <td>5</td>\n",
       "      <td>5</td>\n",
       "      <td>2</td>\n",
       "      <td>5</td>\n",
       "      <td>4</td>\n",
       "      <td>5</td>\n",
       "      <td>4</td>\n",
       "      <td>5</td>\n",
       "      <td>...</td>\n",
       "      <td>4</td>\n",
       "      <td>1</td>\n",
       "      <td>5</td>\n",
       "      <td>4</td>\n",
       "      <td>4</td>\n",
       "      <td>4</td>\n",
       "      <td>9</td>\n",
       "      <td>2019-02-21T15:56:46.090402</td>\n",
       "      <td>Partido Nacional</td>\n",
       "      <td>Luis Lacalle Pou</td>\n",
       "    </tr>\n",
       "  </tbody>\n",
       "</table>\n",
       "<p>5 rows × 32 columns</p>\n",
       "</div>"
      ],
      "text/plain": [
       "   Unnamed: 0      id  1  10  11  12  13  14  15  16  ...  4  5  6  7  8  9  \\\n",
       "0           0     100  2   4   2   2   5   3   4   4  ...  4  2  5  4  4  4   \n",
       "1           1    1000  2   3   3   3   4   3   4   3  ...  3  3  5  5  4  4   \n",
       "2           2  100001  4   5   5   5   5   1   1   3  ...  1  5  1  1  4  5   \n",
       "3           3  100006  4   1   5   1   5   5   5   4  ...  5  5  5  5  2  4   \n",
       "4           4  100011  5   5   2   5   4   5   4   5  ...  4  1  5  4  4  4   \n",
       "\n",
       "   candidatoId                       fecha              partido  \\\n",
       "0           20  2019-02-07T18:17:25.611401  Partido de la Gente   \n",
       "1            9  2019-02-19T16:54:35.074392     Partido Nacional   \n",
       "2            3  2019-02-21T15:56:04.223884        Frente Amplio   \n",
       "3            4  2019-02-21T15:56:21.236512        Frente Amplio   \n",
       "4            9  2019-02-21T15:56:46.090402     Partido Nacional   \n",
       "\n",
       "             nombre  \n",
       "0    Edgardo Novick  \n",
       "1  Luis Lacalle Pou  \n",
       "2    Carolina Cosse  \n",
       "3   Daniel Martínez  \n",
       "4  Luis Lacalle Pou  \n",
       "\n",
       "[5 rows x 32 columns]"
      ]
     },
     "execution_count": 58,
     "metadata": {},
     "output_type": "execute_result"
    }
   ],
   "source": [
    "df.head()"
   ]
  },
  {
   "cell_type": "code",
   "execution_count": 70,
   "metadata": {},
   "outputs": [],
   "source": [
    "features = ['1', '10', '11', '12', '13', '14', '15', '16', '17', '18', '19',\n",
    "       '2', '20', '21', '22', '23', '24', '25', '26', '3', '4', '5', '6', '7',\n",
    "       '8', '9']"
   ]
  },
  {
   "cell_type": "code",
   "execution_count": 73,
   "metadata": {},
   "outputs": [],
   "source": [
    "def add_total(row, features):\n",
    "    total = 0\n",
    "    for i in features:\n",
    "        total += row[i]\n",
    "    return total\n",
    "\n",
    "df['suma_respuestas'] = df.apply(lambda row: add_total(row, features),axis=1)"
   ]
  },
  {
   "cell_type": "code",
   "execution_count": 80,
   "metadata": {},
   "outputs": [
    {
     "name": "stdout",
     "output_type": "stream",
     "text": [
      "cant encuestas todo 5: 63\n",
      "cant encuestas todo 1: 89\n"
     ]
    }
   ],
   "source": [
    "todo_5 = len(df[df['suma_respuestas'] == 26*5])\n",
    "todo_3 = len(df[df['suma_respuestas'] == 26*3])\n",
    "todo_1 = len(df[df['suma_respuestas'] == 26])\n",
    "print('cant encuestas todo 5: {}'.format(todo_5))\n",
    "print('cant encuestas todo 1: {}'.format(todo_1))"
   ]
  },
  {
   "cell_type": "code",
   "execution_count": 81,
   "metadata": {},
   "outputs": [],
   "source": [
    "#TODO conviene sacar las todo 5 y todo 1 ?"
   ]
  },
  {
   "cell_type": "markdown",
   "metadata": {},
   "source": [
    "# LogisticRegression"
   ]
  },
  {
   "cell_type": "code",
   "execution_count": 33,
   "metadata": {},
   "outputs": [],
   "source": [
    "from sklearn.linear_model import LogisticRegression\n",
    "\n",
    "#Split train and test\n",
    "df_train, df_test = train_test_split(df, test_size=0.20)"
   ]
  },
  {
   "cell_type": "code",
   "execution_count": 35,
   "metadata": {},
   "outputs": [],
   "source": [
    "# Try to predict candidate\n",
    "clf = LogisticRegression(random_state=0, solver='lbfgs',multi_class='multinomial',max_iter=700).fit(df_train[features], df_train.candidatoId)\n",
    "df_test['predicted_candidate'] = clf.predict(df_test[features])\n",
    "\n",
    "df_test['predicted_candidate'] = df_test['predicted_candidate'].apply(get_name)\n",
    "df_test['candidato'] = df_test['candidatoId'].apply(get_name)\n"
   ]
  },
  {
   "cell_type": "code",
   "execution_count": 37,
   "metadata": {},
   "outputs": [
    {
     "name": "stdout",
     "output_type": "stream",
     "text": [
      "                            precision    recall  f1-score   support\n",
      "\n",
      "         Carlos Iafigliola       0.00      0.00      0.00        25\n",
      "            Carlos Techera       0.00      0.00      0.00         1\n",
      "            Carolina Cosse       0.39      0.42      0.40       738\n",
      "                César Vega       0.24      0.04      0.07       116\n",
      "           Daniel Martínez       0.37      0.62      0.46       915\n",
      "Edgardo Martínez Zimarioff       0.00      0.00      0.00         2\n",
      "            Edgardo Novick       0.00      0.00      0.00       215\n",
      "             Enrique Antía       0.00      0.00      0.00        46\n",
      "             Ernesto Talvi       0.37      0.62      0.46       977\n",
      "            Gonzalo Abella       0.32      0.09      0.15        74\n",
      "             Gustavo Salle       0.00      0.00      0.00        33\n",
      "             Héctor Rovira       0.00      0.00      0.00         2\n",
      "           Jorge Larrañaga       0.20      0.00      0.01       229\n",
      "        José Amorín Batlle       0.00      0.00      0.00        29\n",
      "              Juan Sartori       0.00      0.00      0.00       365\n",
      "   Julio María Sanguinetti       0.00      0.00      0.00       292\n",
      "            Justin Graside       0.00      0.00      0.00        25\n",
      "          Luis Lacalle Pou       0.31      0.55      0.40       821\n",
      "             Mario Bergara       0.25      0.01      0.01       296\n",
      "              Pablo Mieres       0.25      0.00      0.01       201\n",
      "          Pedro Etchegaray       0.00      0.00      0.00         1\n",
      "          Rafael Fernández       1.00      0.06      0.12        16\n",
      "           Verónica Alonso       0.00      0.00      0.00        48\n",
      "            Álvaro Germano       0.00      0.00      0.00         6\n",
      "             Óscar Andrade       0.37      0.29      0.32       261\n",
      "\n",
      "                 micro avg       0.35      0.35      0.35      5734\n",
      "                 macro avg       0.16      0.11      0.10      5734\n",
      "              weighted avg       0.27      0.35      0.28      5734\n",
      "\n"
     ]
    }
   ],
   "source": [
    "print(classification_report(df_test.nombre,df_test.predicted_candidate))"
   ]
  },
  {
   "cell_type": "markdown",
   "metadata": {},
   "source": [
    "### este pareceria ser el mejor de los 3, lo ponemos en prod?"
   ]
  },
  {
   "cell_type": "markdown",
   "metadata": {},
   "source": [
    "# El modelo original (en produccion)"
   ]
  },
  {
   "cell_type": "code",
   "execution_count": 89,
   "metadata": {},
   "outputs": [],
   "source": [
    "df_original = df[df.id < 206]"
   ]
  },
  {
   "cell_type": "code",
   "execution_count": 90,
   "metadata": {},
   "outputs": [
    {
     "data": {
      "text/plain": [
       "177"
      ]
     },
     "execution_count": 90,
     "metadata": {},
     "output_type": "execute_result"
    }
   ],
   "source": [
    "len(df_original)"
   ]
  },
  {
   "cell_type": "code",
   "execution_count": 111,
   "metadata": {},
   "outputs": [
    {
     "name": "stdout",
     "output_type": "stream",
     "text": [
      "                            precision    recall  f1-score   support\n",
      "\n",
      "         Carlos Iafigliola       0.00      0.00      0.00       109\n",
      "            Carlos Techera       0.00      0.00      0.00        12\n",
      "            Carolina Cosse       0.26      0.38      0.31      3759\n",
      "                César Vega       0.05      0.00      0.01       588\n",
      "           Daniel Martínez       0.35      0.64      0.45      4806\n",
      "Edgardo Martínez Zimarioff       0.00      0.00      0.00        24\n",
      "            Edgardo Novick       0.10      0.03      0.05      1092\n",
      "             Enrique Antía       0.00      0.00      0.00       235\n",
      "             Ernesto Talvi       0.31      0.58      0.40      5127\n",
      "            Gonzalo Abella       0.00      0.00      0.00       409\n",
      "             Gustavo Salle       0.00      0.00      0.00       201\n",
      "             Héctor Rovira       0.00      0.00      0.00        39\n",
      "           Jorge Larrañaga       0.00      0.00      0.00      1241\n",
      "        José Amorín Batlle       0.00      0.00      0.00       180\n",
      "              Juan Sartori       0.17      0.07      0.10      1697\n",
      "   Julio María Sanguinetti       0.08      0.01      0.02      1584\n",
      "            Justin Graside       0.00      0.00      0.00       155\n",
      "          Luis Lacalle Pou       0.33      0.34      0.34      4486\n",
      "             Mario Bergara       0.00      0.00      0.00      1557\n",
      "              Pablo Mieres       0.00      0.00      0.00       959\n",
      "          Pedro Etchegaray       0.00      0.00      0.00        14\n",
      "          Rafael Fernández       0.00      0.00      0.00        92\n",
      "           Verónica Alonso       0.00      0.00      0.00       224\n",
      "                       n/a       0.00      0.00      0.00         1\n",
      "            Álvaro Germano       0.00      0.00      0.00        51\n",
      "             Óscar Andrade       0.00      0.00      0.00      1378\n",
      "\n",
      "                 micro avg       0.31      0.31      0.31     30020\n",
      "                 macro avg       0.06      0.08      0.06     30020\n",
      "              weighted avg       0.21      0.31      0.24     30020\n",
      "\n"
     ]
    }
   ],
   "source": [
    "n=17\n",
    "k=7\n",
    "\n",
    "#entreno con el df original y testeo con el resto de los datos\n",
    "\n",
    "pca = PCA(n_components=n)\n",
    "pca.fit(df_original[features])\n",
    "x_train = pca.transform(df_original[features])\n",
    "y_train = df_original.candidatoId\n",
    "x_test = pca.transform(df[df.id>=206][features])\n",
    "y_test = df[df.id>=206].candidatoId\n",
    "\n",
    "candidate_model = KNeighborsClassifier(n_neighbors=n)\n",
    "candidate_model.fit(x_train, y_train)\n",
    "results = pd.DataFrame()\n",
    "results['truth'] = y_test\n",
    "results['truth'] = results.truth.apply(get_name)\n",
    "results['prediction'] = candidate_model.predict(x_test)\n",
    "results['prediction'] = results.prediction.apply(get_name)\n",
    "\n",
    "print(classification_report(results.truth,results.prediction ))"
   ]
  },
  {
   "cell_type": "markdown",
   "metadata": {},
   "source": [
    "# Ahora probamos un nuevo KNeighborsClassifier"
   ]
  },
  {
   "cell_type": "code",
   "execution_count": 112,
   "metadata": {},
   "outputs": [
    {
     "name": "stdout",
     "output_type": "stream",
     "text": [
      "                            precision    recall  f1-score   support\n",
      "\n",
      "         Carlos Iafigliola       0.50      0.05      0.09        21\n",
      "            Carlos Techera       0.00      0.00      0.00         2\n",
      "            Carolina Cosse       0.37      0.39      0.38       769\n",
      "                César Vega       0.00      0.00      0.00       122\n",
      "           Daniel Martínez       0.37      0.54      0.44       947\n",
      "Edgardo Martínez Zimarioff       0.00      0.00      0.00         7\n",
      "            Edgardo Novick       0.05      0.01      0.02       217\n",
      "             Enrique Antía       0.00      0.00      0.00        37\n",
      "             Ernesto Talvi       0.32      0.54      0.40      1035\n",
      "            Gonzalo Abella       0.50      0.03      0.06        88\n",
      "             Gustavo Salle       0.00      0.00      0.00        36\n",
      "             Héctor Rovira       0.00      0.00      0.00         8\n",
      "           Jorge Larrañaga       0.07      0.00      0.01       244\n",
      "        José Amorín Batlle       0.00      0.00      0.00        47\n",
      "              Juan Sartori       0.19      0.03      0.05       344\n",
      "   Julio María Sanguinetti       0.17      0.03      0.05       312\n",
      "            Justin Graside       0.00      0.00      0.00        32\n",
      "          Luis Lacalle Pou       0.29      0.49      0.36       918\n",
      "             Mario Bergara       0.18      0.06      0.09       324\n",
      "              Pablo Mieres       0.11      0.02      0.03       185\n",
      "          Pedro Etchegaray       0.00      0.00      0.00         1\n",
      "          Rafael Fernández       0.00      0.00      0.00        11\n",
      "           Verónica Alonso       0.00      0.00      0.00        50\n",
      "            Álvaro Germano       0.00      0.00      0.00        10\n",
      "             Óscar Andrade       0.38      0.33      0.35       273\n",
      "\n",
      "                 micro avg       0.32      0.32      0.32      6040\n",
      "                 macro avg       0.14      0.10      0.09      6040\n",
      "              weighted avg       0.27      0.32      0.27      6040\n",
      "\n"
     ]
    }
   ],
   "source": [
    "n=22\n",
    "k=22\n",
    "\n",
    "pca = PCA(n_components=n)\n",
    "pca.fit(df[features])\n",
    "X = pca.transform(df[features])\n",
    "y = df.candidatoId\n",
    "\n",
    "#entreno con el 80% de los datos\n",
    "X_train, X_test, y_train, y_test = train_test_split(X, y, test_size=0.20)\n",
    "candidate_model = KNeighborsClassifier(n_neighbors=n)\n",
    "candidate_model.fit(X_train, y_train)\n",
    "results = pd.DataFrame()\n",
    "results['truth'] = y_test\n",
    "results['truth'] = results.truth.apply(get_name)\n",
    "results['prediction'] = candidate_model.predict(X_test)\n",
    "results['prediction'] = results.prediction.apply(get_name)\n",
    "\n",
    "print(classification_report(results.truth,results.prediction ))"
   ]
  },
  {
   "cell_type": "markdown",
   "metadata": {},
   "source": [
    "### Gana el LR"
   ]
  }
 ],
 "metadata": {
  "kernelspec": {
   "display_name": "Python 3",
   "language": "python",
   "name": "python3"
  },
  "language_info": {
   "codemirror_mode": {
    "name": "ipython",
    "version": 3
   },
   "file_extension": ".py",
   "mimetype": "text/x-python",
   "name": "python",
   "nbconvert_exporter": "python",
   "pygments_lexer": "ipython3",
   "version": "3.7.2"
  }
 },
 "nbformat": 4,
 "nbformat_minor": 2
}
